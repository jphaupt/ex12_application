{
 "cells": [
  {
   "cell_type": "markdown",
   "metadata": {},
   "source": [
    "# Path Integral Quantum Statistics"
   ]
  },
  {
   "cell_type": "markdown",
   "metadata": {},
   "source": [
    "This is part of an application to work in a group at ETH Zürich as a doctoral candidate. "
   ]
  },
  {
   "cell_type": "markdown",
   "metadata": {},
   "source": [
    "The potential energy of a Morse oscillator is defined as \n",
    "$$\n",
    "V(x) = D_e(1-e^{-\\alpha(x-x_e)})^2\n",
    "$$\n",
    "with parameters chosen to represent an OH bond: $D_e = \\hbar\\omega_e^2/4\\omega_e\\chi_e$ and $\\alpha = \\sqrt{2m\\omega_e\\chi_e/\\hbar}$ with $\\omega_e/2\\pi c = 3737.76$ cm$^{-1}$, $\\omega_e\\chi_e/2\\pi c = 84.881$ cm$^{-1}$ and $x_e = 0.96966$ Å. For the mass, $m$, we use the reduced mass as if OH were a diatomic molecule. \n",
    "\n",
    "We wish to compute the partition function\n",
    "$$\n",
    "Z(\\beta) = \\left(\\frac{m}{2\\pi\\beta_N\\hbar^2}\\right)^{N/2}\\int{\\rm d}\\mathbf x {\\rm e}^{-\\beta_NU_N(\\mathbf x)}\n",
    "$$\n",
    "where $U_N(\\mathbf x) = \\sum_{n=1}^N \\frac m{2\\beta_N^2\\hbar^2}(x_n-x_{n-1})^2+\\sum_{n=1}^NV(x_n)$ and $\\beta_N = \\beta/N$. Here the index notation is cyclic such that $x_0\\equiv x_N$ and $\\mathbf x = \\{x_1, ..., x_N\\}$. "
   ]
  },
  {
   "cell_type": "markdown",
   "metadata": {},
   "source": [
    "a) Write code to build the $N\\times N$ ring-polymer Hessian, $\\mathbf H=\\nabla^2 U_N(\\mathbf x)$, for a ring polymer collapsed at the bottom of the Morse oscillator. Note that because the potential at the bottom of the oscillator is 0, the Taylor expansion of the ring-polymer potential is $U_N(\\mathbf x) = \\frac 12\\mathbf x^T \\mathbf H\\mathbf x+...$. "
   ]
  },
  {
   "cell_type": "markdown",
   "metadata": {},
   "source": [
    "---"
   ]
  },
  {
   "cell_type": "markdown",
   "metadata": {},
   "source": [
    "## Solution"
   ]
  },
  {
   "cell_type": "markdown",
   "metadata": {},
   "source": [
    "First, let's import the necessary modules and calculate the necessary constants defined in the problem. "
   ]
  },
  {
   "cell_type": "markdown",
   "metadata": {},
   "source": [
    "_NOTE:_ for convenience (and numerical accuracy), I am using the Hartree atomic units system."
   ]
  },
  {
   "cell_type": "code",
   "execution_count": 52,
   "metadata": {},
   "outputs": [],
   "source": [
    "import numpy as np # used in (b), so presumably allowed\n",
    "from matplotlib import pyplot as plt\n",
    "from math import pi\n",
    "\n",
    "# values in units as given \n",
    "ωe_2pic_cm = 3737.76 # ω_e/2πc, cm^-1\n",
    "ωχ_2pic_cm = 84.881 # ω_e χ_e/2ωc, cm^-1\n",
    "xe_ang = 0.96966 # x_e, Å\n",
    "\n",
    "# atomic unit conversions\n",
    "percm_2_pera0 = 5.29177211e-9 # cm^-1 to a0^-1\n",
    "ang_2_a0 = 1.889726125 # angstrom to Bohr radius\n",
    "\n",
    "# convert values\n",
    "ωe_2pic = ωe_2pic_cm * percm_2_pera0 # ω_e/2πc, a0^-1\n",
    "xe = xe_ang * ang_2_a0 # x_e, a0\n",
    "\n",
    "# c = 2.998e10 # speed of light, cm/s\n",
    "# use atomic units \n",
    "c = 137  # speed of light, a0 Eh / hbar\n",
    "\n",
    "χ = ωχ_2pic_cm / ωe_2pic_cm # dimensionless \n",
    "ω = ωe_2pic * 2 * pi * c # Eh/hbar\n",
    "\n",
    "# NOTE I am assuming that I may just look up the masses for O and H\n",
    "# I looked them up via Wolfram Alpha\n",
    "mO = 29164 # mass of Oxygen, m_e\n",
    "mH = 1837 # mass of Hydrogen, m_e\n",
    "m = mO*mH/(mO+mH) # reduced mass of OH\n",
    "\n",
    "# hbar,e,a0,m_e = 1\n",
    "De = ω/4/χ # well depth, Eh\n",
    "α = np.sqrt(2*m*ω*χ) # exponent, a0^-1\n",
    "\n",
    "# Morse oscillator potential energy \n",
    "V = lambda x: De*(1-np.exp(-α*(x-xe)))**2"
   ]
  },
  {
   "cell_type": "code",
   "execution_count": 14,
   "metadata": {},
   "outputs": [
    {
     "data": {
      "image/png": "[encoded data removed]",
      "text/plain": [
       "<Figure size 432x288 with 1 Axes>"
      ]
     },
     "metadata": {
      "needs_background": "light"
     },
     "output_type": "display_data"
    }
   ],
   "source": [
    "# sanity check that the Morse oscillator looks like as expected\n",
    "xs = np.linspace(1, 10, 1000)\n",
    "plt.plot(xs, V(xs))\n",
    "plt.title(r'Morse Potential')\n",
    "plt.ylabel(r'$V(x)$ (hartree)')\n",
    "plt.xlabel(r'$x$ (Bohr radii)')\n",
    "plt.show()"
   ]
  },
  {
   "cell_type": "markdown",
   "metadata": {},
   "source": [
    "Now that we have sorted out units and have a function for the Morse oscillator, we can calculate the Hessian. First, the gradient is easily seen to be \n",
    "$$\n",
    "\\frac{\\partial U_N(\\mathbf x)}{\\partial x_n} = \\frac m{\\beta_N^2\\hbar^2}(-x_{n+1}+2x_n-x_{n-1}) + \\frac{\\partial V(x_n)}{\\partial x_n}.\n",
    "$$\n",
    "\n",
    "Similarly, the Hessian can be calculated, \n",
    "$$\n",
    "\\frac{\\partial^2 U_N(\\mathbf x)}{\\partial x_n\\partial x_j} = \n",
    "\\frac m{\\beta_N^2\\hbar^2}(-\\delta_{n+1,j}+2\\delta_{n,j}-\\delta_{n-1,j})\n",
    "+ \n",
    "\\delta_{n,j}\\frac{\\partial^2 V(x_n)}{\\partial x_n^2}.\n",
    "$$\n",
    "where, as usual, $\\delta_{nj}$ is the Kronecker delta function. \n",
    "\n",
    "Assuming the Morse potential, it is also easily to calculate the second derivative thereof, via repeated differentiation,\n",
    "$$\n",
    "V''(x) = 2D_e\\alpha^2e^{-\\alpha(x-x_e)}(2e^{-\\alpha(x-x_e)}-1).\n",
    "$$\n",
    "\n",
    "As described in the question, we are expanding about the bottom of the Morse oscillator, so we evaluate at $x=x_e$ and Taylor expand $U_N(x)\\approx\\frac 12x^THx$."
   ]
  },
  {
   "cell_type": "code",
   "execution_count": 33,
   "metadata": {},
   "outputs": [
    {
     "name": "stdout",
     "output_type": "stream",
     "text": [
      "[[ 0.5485753  -0.02380566  0.         -0.02380566]\n",
      " [-0.02380566  0.5485753  -0.02380566  0.        ]\n",
      " [ 0.         -0.02380566  0.5485753  -0.02380566]\n",
      " [-0.02380566  0.         -0.02380566  0.5485753 ]]\n"
     ]
    }
   ],
   "source": [
    "# V''(x) as found above\n",
    "# we are expanding about the *minimum* => don't need as function\n",
    "# Vpp(x) = lambda x: 2*De*α*α*np.exp(-α(x-xe))*(2*np.exp(-α*(x-xe))-1)\n",
    "# Vpp(x_e) = 2Dα²\n",
    "\n",
    "# assuming room temperature, T=293 K\n",
    "β = 1/9.2787578809e-4 # 1/Eh\n",
    "\n",
    "# TODO do this faster by adding np.eye, etc? If I have time\n",
    "\n",
    "# I will write the Hessian as a function of N and x\n",
    "# TODO check for overflow or cancellation errors! Prefactor seems big\n",
    "def Hij(i,j,N):\n",
    "    \"\"\"\n",
    "    returns the value of the N by N Hessian matrix ∇U at index i,j\n",
    "    evaluated at x=x_e (i.e. minimum of Morse potential)\n",
    "    \n",
    "    helper function for hessian function, below\n",
    "    :param: i row index\n",
    "    :param: j column index\n",
    "    :param: size of matrix (number of beads)\n",
    "    :return: $H_{ij}$, value of H at index i,j \n",
    "    \"\"\"\n",
    "    if i==j:\n",
    "        return 2*m*N*N/β/β+2*De*α*α\n",
    "    if (i+1)%N==j: # mod N to ensure PBCs\n",
    "        return -m*N*N/β/β\n",
    "    if (i-1)%N==j:\n",
    "        return -m*N*N/β/β\n",
    "    else:\n",
    "        return 0\n",
    "\n",
    "def hessian(N):\n",
    "    \"\"\"\n",
    "    returns the Hessian of size N\n",
    "    \"\"\"\n",
    "    H = np.zeros((N,N))\n",
    "    for i in range(N):\n",
    "        for j in range(N):\n",
    "            H[i,j] = Hij(i,j,N)\n",
    "    return H\n",
    "    \n",
    "# print small example, looks fine \n",
    "print(hessian(4))"
   ]
  },
  {
   "cell_type": "markdown",
   "metadata": {},
   "source": [
    "---"
   ]
  },
  {
   "cell_type": "markdown",
   "metadata": {},
   "source": [
    "b) Calculate the eigenvalues and eigenvectors of this matrix using \n",
    "```\n",
    "evals, U = numpy.linalg.eigh(H)\n",
    "```\n",
    "We use eigh instead of eig because our matrix is hermitian (actually symmetric). If you want, you can check that the eigenvalues are in agreement with the Hückel cyclic alkene formula. The eigenvalues will be stored as a vector and the eigenvectors as a matrix. Show that the eigenvectors are stored in the columns by printing $U^THU$ and checking if the result is the diagonal matrix with the eigenvalues along the diagonal."
   ]
  },
  {
   "cell_type": "markdown",
   "metadata": {},
   "source": [
    "---"
   ]
  },
  {
   "cell_type": "markdown",
   "metadata": {},
   "source": [
    "## Solution"
   ]
  },
  {
   "cell_type": "code",
   "execution_count": 48,
   "metadata": {},
   "outputs": [
    {
     "name": "stdout",
     "output_type": "stream",
     "text": [
      "True\n"
     ]
    }
   ],
   "source": [
    "# select some N \n",
    "N = 16\n",
    "H = hessian(N)\n",
    "\n",
    "evals, U = np.linalg.eigh(H)\n",
    "UHU = (U.T @ H) @ U # U^THU\n",
    "# If the following line returns True, then they are the same \n",
    "# up to the tolerance\n",
    "print(np.all(np.abs(UHU-np.diag(evals))<=1e-10))"
   ]
  },
  {
   "cell_type": "markdown",
   "metadata": {},
   "source": [
    "TODO also check the Hückel cyclic alkene formula (not familiar with this -- Look it up!)"
   ]
  },
  {
   "cell_type": "markdown",
   "metadata": {},
   "source": [
    "---"
   ]
  },
  {
   "cell_type": "markdown",
   "metadata": {},
   "source": [
    "c) We use the eigenvectors to define a set of normal modes for our system. Check (numerically) that for any path-integral configuration, $\\mathbf x$, that $x^THx = \\sum_k \\lambda_kq_k^2$ where $\\lambda_k$ are the eigenvalues and $\\mathbf q = U^T(\\mathbf x-x_e)$"
   ]
  },
  {
   "cell_type": "markdown",
   "metadata": {},
   "source": [
    "---"
   ]
  },
  {
   "cell_type": "markdown",
   "metadata": {},
   "source": [
    "## Solution"
   ]
  },
  {
   "cell_type": "markdown",
   "metadata": {},
   "source": [
    "Since this is a numerical \"proof,\" I assume that \"for any path-integral configuration,\" we really mean an arbitrary configuration. "
   ]
  },
  {
   "cell_type": "code",
   "execution_count": 145,
   "metadata": {},
   "outputs": [
    {
     "name": "stdout",
     "output_type": "stream",
     "text": [
      "3.986542572938772\n",
      "3.986542572938777\n"
     ]
    }
   ],
   "source": [
    "# check for random values between zero and one \n",
    "\n",
    "x = np.random.rand(N)\n",
    "\n",
    "xHx = x.T @ H @ x\n",
    "print(xHx)\n",
    "\n",
    "rhs = 0 # rhs of the expression, which should equal xHx\n",
    "q = U.T @ x\n",
    "for i in range(N):\n",
    "    rhs += evals[i] * q[i] * q[i]\n",
    "print(rhs)"
   ]
  },
  {
   "cell_type": "markdown",
   "metadata": {},
   "source": [
    "_NOTE:_ I only got this to work by removing the $x_e$ in the definition of $\\mathbf q$. I am not sure why $x_e$ is there in the first place."
   ]
  },
  {
   "cell_type": "markdown",
   "metadata": {},
   "source": [
    "TODO check other values when I have time"
   ]
  },
  {
   "cell_type": "markdown",
   "metadata": {},
   "source": [
    "---"
   ]
  },
  {
   "cell_type": "markdown",
   "metadata": {},
   "source": [
    "d) TODO"
   ]
  },
  {
   "cell_type": "markdown",
   "metadata": {},
   "source": [
    "---"
   ]
  },
  {
   "cell_type": "markdown",
   "metadata": {},
   "source": [
    "## Solution"
   ]
  },
  {
   "cell_type": "markdown",
   "metadata": {},
   "source": [
    "TODO"
   ]
  },
  {
   "cell_type": "markdown",
   "metadata": {},
   "source": [
    "---"
   ]
  },
  {
   "cell_type": "markdown",
   "metadata": {},
   "source": [
    "e) TODO"
   ]
  },
  {
   "cell_type": "markdown",
   "metadata": {},
   "source": [
    "---"
   ]
  },
  {
   "cell_type": "markdown",
   "metadata": {},
   "source": [
    "## Solution"
   ]
  },
  {
   "cell_type": "markdown",
   "metadata": {},
   "source": [
    "TODO"
   ]
  },
  {
   "cell_type": "markdown",
   "metadata": {},
   "source": [
    "---"
   ]
  },
  {
   "cell_type": "markdown",
   "metadata": {},
   "source": [
    "f) TODO"
   ]
  },
  {
   "cell_type": "markdown",
   "metadata": {},
   "source": [
    "---"
   ]
  },
  {
   "cell_type": "markdown",
   "metadata": {},
   "source": [
    "## Solution"
   ]
  },
  {
   "cell_type": "markdown",
   "metadata": {},
   "source": [
    "TODO"
   ]
  },
  {
   "cell_type": "markdown",
   "metadata": {},
   "source": [
    "---"
   ]
  },
  {
   "cell_type": "markdown",
   "metadata": {},
   "source": [
    "g) TODO"
   ]
  },
  {
   "cell_type": "markdown",
   "metadata": {},
   "source": [
    "---"
   ]
  },
  {
   "cell_type": "markdown",
   "metadata": {},
   "source": [
    "## Solution"
   ]
  },
  {
   "cell_type": "markdown",
   "metadata": {},
   "source": [
    "TODO"
   ]
  },
  {
   "cell_type": "markdown",
   "metadata": {},
   "source": [
    "---"
   ]
  },
  {
   "cell_type": "markdown",
   "metadata": {},
   "source": []
  }
 ],
 "metadata": {
  "kernelspec": {
   "display_name": "Python 3.7.6 64-bit",
   "language": "python",
   "name": "python37664bit92f8a897d0db47d3b9dd391bbd5c4bf9"
  },
  "language_info": {
   "codemirror_mode": {
    "name": "ipython",
    "version": 3
   },
   "file_extension": ".py",
   "mimetype": "text/x-python",
   "name": "python",
   "nbconvert_exporter": "python",
   "pygments_lexer": "ipython3",
   "version": "3.7.6"
  }
 },
 "nbformat": 4,
 "nbformat_minor": 4
}
