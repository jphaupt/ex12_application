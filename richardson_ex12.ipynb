{
 "cells": [
  {
   "cell_type": "markdown",
   "metadata": {},
   "source": [
    "# Path Integral Quantum Statistics"
   ]
  },
  {
   "cell_type": "markdown",
   "metadata": {},
   "source": [
    "This is part of an application to work in a group as a doctoral candidate. "
   ]
  },
  {
   "cell_type": "markdown",
   "metadata": {},
   "source": [
    "The potential energy of a Morse oscillator is defined as \n",
    "$$\n",
    "V(x) = D_e(1-e^{-\\alpha(x-x_e)})^2\n",
    "$$\n",
    "with parameters chosen to represent an OH bond: $D_e = \\hbar\\omega_e^2/4\\omega_e\\chi_e$ and $\\alpha = \\sqrt{2m\\omega_e\\chi_e/\\hbar}$ with $\\omega_e/2\\pi c = 3737.76$ cm$^{-1}$, $\\omega_e\\chi_e/2\\pi c = 84.881$ cm$^{-1}$ and $x_e = 0.96966$ Å. For the mass, $m$, we use the reduced mass as if OH were a diatomic molecule. \n",
    "\n",
    "We wish to compute the partition function\n",
    "$$\n",
    "Z(\\beta) = \\left(\\frac{m}{2\\pi\\beta_N\\hbar^2}\\right)^{N/2}\\int{\\rm d}\\mathbf x {\\rm e}^{-\\beta_NU_N(\\mathbf x)}\n",
    "$$\n",
    "where $U_N(\\mathbf x) = \\sum_{n=1}^N \\frac m{2\\beta_N^2\\hbar^2}(x_n-x_{n-1})^2+\\sum_{n=1}^NV(x_n)$ and $\\beta_N = \\beta/N$. Here the index notation is cyclic such that $x_0\\equiv x_N$ and $\\mathbf x = \\{x_1, ..., x_N\\}$. "
   ]
  },
  {
   "cell_type": "markdown",
   "metadata": {},
   "source": [
    "a) Write code to build the $N\\times N$ ring-polymer Hessian, $\\mathbf H=\\nabla^2 U_N(\\mathbf x)$, for a ring polymer collapsed at the bottom of the Morse oscillator. Note that because the potential at the bottom of the oscillator is 0, the Taylor expansion of the ring-polymer potential is $U_N(\\mathbf x) = \\frac {1}{2}\\mathbf x^T \\mathbf H\\mathbf x+...$. "
   ]
  },
  {
   "cell_type": "markdown",
   "metadata": {},
   "source": [
    "---"
   ]
  },
  {
   "cell_type": "markdown",
   "metadata": {},
   "source": [
    "## Solution"
   ]
  },
  {
   "cell_type": "markdown",
   "metadata": {},
   "source": [
    "First, let's import the necessary modules and calculate the necessary constants defined in the problem. "
   ]
  },
  {
   "cell_type": "markdown",
   "metadata": {},
   "source": [
    "_NOTE:_ for convenience (and numerical accuracy), I am using the Hartree atomic units system."
   ]
  },
  {
   "cell_type": "code",
   "execution_count": 1,
   "metadata": {},
   "outputs": [],
   "source": [
    "import numpy as np # used in (b), so presumably allowed\n",
    "from matplotlib import pyplot as plt\n",
    "from math import pi\n",
    "\n",
    "# values in units as given \n",
    "ωe_2pic_cm = 3737.76 # ω_e/2πc, cm^-1\n",
    "ωχ_2pic_cm = 84.881 # ω_e χ_e/2ωc, cm^-1\n",
    "xe_ang = 0.96966 # x_e, Å\n",
    "\n",
    "# atomic unit conversions\n",
    "percm_2_pera0 = 5.29177211e-9 # cm^-1 to a0^-1\n",
    "ang_2_a0 = 1.889726125 # angstrom to Bohr radius\n",
    "\n",
    "# convert values\n",
    "ωe_2pic = ωe_2pic_cm * percm_2_pera0 # ω_e/2πc, a0^-1\n",
    "xe = xe_ang * ang_2_a0 # x_e, a0\n",
    "\n",
    "# c = 2.998e10 # speed of light, cm/s\n",
    "# use atomic units \n",
    "c = 137  # speed of light, a0 Eh / hbar\n",
    "\n",
    "χ = ωχ_2pic_cm / ωe_2pic_cm # dimensionless \n",
    "ω = ωe_2pic * 2 * pi * c # Eh/hbar\n",
    "\n",
    "# NOTE I am assuming that I may just look up the masses for O and H\n",
    "# I looked them up via Wolfram Alpha\n",
    "mO = 29164 # mass of Oxygen, m_e\n",
    "mH = 1837 # mass of Hydrogen, m_e\n",
    "m = mO*mH/(mO+mH) # reduced mass of OH\n",
    "\n",
    "# hbar,e,a0,m_e = 1\n",
    "De = ω/4/χ # well depth, Eh\n",
    "α = np.sqrt(2*m*ω*χ) # exponent, a0^-1\n",
    "\n",
    "# Morse oscillator potential energy \n",
    "V = lambda x: De*(1-np.exp(-α*(x-xe)))**2"
   ]
  },
  {
   "cell_type": "code",
   "execution_count": 2,
   "metadata": {
    "scrolled": true
   },
   "outputs": [
    {
     "data": {
      "image/png": "[encoded data removed]",
      "text/plain": [
       "<Figure size 432x288 with 1 Axes>"
      ]
     },
     "metadata": {
      "needs_background": "light"
     },
     "output_type": "display_data"
    }
   ],
   "source": [
    "# sanity check that the Morse oscillator looks like as expected\n",
    "xs = np.linspace(1, 10, 1000)\n",
    "plt.plot(xs, V(xs))\n",
    "plt.title(r'Morse Potential')\n",
    "plt.ylabel(r'$V(x)$ (hartree)')\n",
    "plt.xlabel(r'$x$ (Bohr radii)')\n",
    "plt.show()"
   ]
  },
  {
   "cell_type": "markdown",
   "metadata": {},
   "source": [
    "Now that we have sorted out units and have a function for the Morse oscillator, we can calculate the Hessian. First, the gradient is easily seen to be \n",
    "$$\n",
    "\\frac{\\partial U_N(\\mathbf x)}{\\partial x_n} = \\frac m{\\beta_N^2\\hbar^2}(-x_{n+1}+2x_n-x_{n-1}) + \\frac{\\partial V(x_n)}{\\partial x_n}.\n",
    "$$\n",
    "\n",
    "Similarly, the Hessian can be calculated, \n",
    "$$\n",
    "\\frac{\\partial^2 U_N(\\mathbf x)}{\\partial x_n\\partial x_j} = \n",
    "\\frac m{\\beta_N^2\\hbar^2}(-\\delta_{n+1,j}+2\\delta_{n,j}-\\delta_{n-1,j})+ \n",
    "\\delta_{n,j}\\frac{\\partial^2 V(x_n)}{\\partial x_n^2}.\n",
    "$$\n",
    "where, as usual, $\\delta_{nj}$ is the Kronecker delta function. \n",
    "\n",
    "Assuming the Morse potential, it is also easily to calculate the second derivative thereof, via repeated differentiation,\n",
    "$$\n",
    "V''(x) = 2D_e\\alpha^2e^{-\\alpha(x-x_e)}(2e^{-\\alpha(x-x_e)}-1).\n",
    "$$\n",
    "\n",
    "As described in the question, we are expanding about the bottom of the Morse oscillator, so we evaluate at $x=x_e$ and Taylor expand $U_N(x)\\approx\\frac {1}{2}x^THx$."
   ]
  },
  {
   "cell_type": "code",
   "execution_count": 3,
   "metadata": {},
   "outputs": [
    {
     "name": "stdout",
     "output_type": "stream",
     "text": [
      "[[ 0.5485753  -0.02380566  0.         -0.02380566]\n",
      " [-0.02380566  0.5485753  -0.02380566  0.        ]\n",
      " [ 0.         -0.02380566  0.5485753  -0.02380566]\n",
      " [-0.02380566  0.         -0.02380566  0.5485753 ]]\n"
     ]
    }
   ],
   "source": [
    "# V''(x) as found above\n",
    "# we are expanding about the *minimum* => don't need as function\n",
    "# Vpp(x) = lambda x: 2*De*α*α*np.exp(-α(x-xe))*(2*np.exp(-α*(x-xe))-1)\n",
    "# Vpp(x_e) = 2Dα²\n",
    "\n",
    "# assuming room temperature, T=293 K\n",
    "βr = 1/9.2787578809e-4 # 1/Eh\n",
    "\n",
    "# TODO do this faster by adding np.eye, etc? If I have time\n",
    "\n",
    "# I will write the Hessian as a function of N and x\n",
    "def Hij(i,j,N,β):\n",
    "    \"\"\"\n",
    "    returns the value of the N by N Hessian matrix ∇U at index i,j\n",
    "    evaluated at x=x_e (i.e. minimum of Morse potential)\n",
    "    \n",
    "    helper function for hessian function, below\n",
    "    :param: i row index\n",
    "    :param: j column index\n",
    "    :param: size of matrix (number of beads)\n",
    "    :param: β reciprocal temperature\n",
    "    :return: $H_{ij}$, value of H at index i,j \n",
    "    \"\"\"\n",
    "    if i==j:\n",
    "        return 2*m*N*N/β/β+2*De*α*α\n",
    "    if (i+1)%N==j: # mod N to ensure PBCs\n",
    "        return -m*N*N/β/β\n",
    "    if (i-1)%N==j:\n",
    "        return -m*N*N/β/β\n",
    "    else:\n",
    "        return 0\n",
    "\n",
    "def hessian(N,β):\n",
    "    \"\"\"\n",
    "    returns the Hessian of size N at reciprocal temp β\n",
    "    \"\"\"\n",
    "    H = np.zeros((N,N))\n",
    "    for i in range(N):\n",
    "        for j in range(N):\n",
    "            H[i,j] = Hij(i,j,N,β)\n",
    "    return H\n",
    "    \n",
    "# print small example, looks fine \n",
    "print(hessian(4,βr))"
   ]
  },
  {
   "cell_type": "markdown",
   "metadata": {},
   "source": [
    "---"
   ]
  },
  {
   "cell_type": "markdown",
   "metadata": {},
   "source": [
    "b) Calculate the eigenvalues and eigenvectors of this matrix using \n",
    "```\n",
    "evals, U = numpy.linalg.eigh(H)\n",
    "```\n",
    "We use eigh instead of eig because our matrix is hermitian (actually symmetric). If you want, you can check that the eigenvalues are in agreement with the Hückel cyclic alkene formula. The eigenvalues will be stored as a vector and the eigenvectors as a matrix. Show that the eigenvectors are stored in the columns by printing $U^THU$ and checking if the result is the diagonal matrix with the eigenvalues along the diagonal."
   ]
  },
  {
   "cell_type": "markdown",
   "metadata": {},
   "source": [
    "---"
   ]
  },
  {
   "cell_type": "markdown",
   "metadata": {},
   "source": [
    "## Solution"
   ]
  },
  {
   "cell_type": "code",
   "execution_count": 4,
   "metadata": {},
   "outputs": [
    {
     "name": "stdout",
     "output_type": "stream",
     "text": [
      "True\n"
     ]
    }
   ],
   "source": [
    "# select some N \n",
    "N = 16\n",
    "H = hessian(N,βr)\n",
    "\n",
    "evals, U = np.linalg.eigh(H)\n",
    "UHU = (U.T @ H) @ U # U^THU\n",
    "# If the following line returns True, then they are the same \n",
    "# up to the tolerance\n",
    "print(np.all(np.abs(UHU-np.diag(evals))<=1e-10))"
   ]
  },
  {
   "cell_type": "markdown",
   "metadata": {},
   "source": [
    "TODO also check the Hückel cyclic alkene formula (not familiar with this -- Look it up!)"
   ]
  },
  {
   "cell_type": "markdown",
   "metadata": {},
   "source": [
    "---"
   ]
  },
  {
   "cell_type": "markdown",
   "metadata": {},
   "source": [
    "c) We use the eigenvectors to define a set of normal modes for our system. Check (numerically) that for any path-integral configuration, $\\mathbf x$, that $x^THx = \\sum_k \\lambda_kq_k^2$ where $\\lambda_k$ are the eigenvalues and $\\mathbf q = U^T(\\mathbf x-x_e)$"
   ]
  },
  {
   "cell_type": "markdown",
   "metadata": {},
   "source": [
    "---"
   ]
  },
  {
   "cell_type": "markdown",
   "metadata": {},
   "source": [
    "## Solution"
   ]
  },
  {
   "cell_type": "markdown",
   "metadata": {},
   "source": [
    "Since this is a numerical \"proof,\" I assume that \"for any path-integral configuration,\" we really mean an arbitrary configuration. "
   ]
  },
  {
   "cell_type": "code",
   "execution_count": 5,
   "metadata": {},
   "outputs": [
    {
     "name": "stdout",
     "output_type": "stream",
     "text": [
      "3.0964997065767905\n",
      "3.0964997065767914\n",
      "True\n"
     ]
    }
   ],
   "source": [
    "# check for random values between zero and one \n",
    "\n",
    "x = np.random.rand(N)\n",
    "\n",
    "xHx = x.T @ H @ x\n",
    "print(xHx)\n",
    "\n",
    "rhs = 0 # rhs of the expression, which should equal xHx\n",
    "q = U.T @ x\n",
    "for i in range(N):\n",
    "    rhs += evals[i] * q[i] * q[i]\n",
    "print(rhs)\n",
    "\n",
    "print(abs(xHx-rhs)<=1e-10)"
   ]
  },
  {
   "cell_type": "markdown",
   "metadata": {},
   "source": [
    "_NOTE:_ I only got this to work by removing the $x_e$ in the definition of $\\mathbf q$. I am not sure why $x_e$ is there in the first place."
   ]
  },
  {
   "cell_type": "markdown",
   "metadata": {},
   "source": [
    "Just for fun, here is a simple analytical proof. \n",
    "\n",
    "We know that $U^THU={\\rm diag}\\mathbf\\lambda$ where $\\mathbf \\lambda$ is the vector of eigenvalues and ${\\rm diag}\\mathbf x$ is the matrix with the vector $\\mathbf x$ along the diagonal and zeros everywhere else.\n",
    "\n",
    "Then, by multiplying $U^Tx$ on the right,\n",
    "$$ \n",
    "U^THx = {\\rm diag}\\mathbf(\\lambda) U^Tx\n",
    "$$\n",
    "and then by $x^TU$ on the left, \n",
    "$$\n",
    "x^THx = x^TU{\\rm diag}\\mathbf(\\lambda) U^Tx.\n",
    "$$\n",
    "\n",
    "But we define $\\mathbf q\\equiv U^Tx$ so we have \n",
    "$$\n",
    "x^THx = q^T{\\rm diag}\\mathbf(\\lambda) q.\n",
    "$$\n",
    "\n",
    "By simple matrix multiplication rules it is then simple to see $x^THx = \\sum_k \\lambda_kq_k^2$."
   ]
  },
  {
   "cell_type": "markdown",
   "metadata": {},
   "source": [
    "TODO check other values when I have time\n",
    "\n",
    "TODO ask about this (is it a typo?)"
   ]
  },
  {
   "cell_type": "markdown",
   "metadata": {},
   "source": [
    "---"
   ]
  },
  {
   "cell_type": "markdown",
   "metadata": {},
   "source": [
    "d) Write code to perform Monte Carlo importance sampling (like in Exercise 2) of the normal-mode coordinates from the distribution\n",
    "$$\n",
    "q_k\\sim\\sqrt{\\frac{\\beta_N\\lambda_k}{2\\pi}}e^{-\\beta_N\\lambda_kq_k^2/2},\n",
    "$$\n",
    "and hence compute the partition function at room temperature\n",
    "\n",
    "_Hint: First converge with respect to the number of Monte Carlo steps (you could estimate the standard deviation in your result to help with this process). Next, converge the results to about 5% error with respect to $N$. You can estimate how many beads will be needed from the condition $\\beta_N\\hbar\\omega_e\\ll 1$._\n",
    "\n",
    "_Hint: use a sanity check to help you eliminate errors, e.g. change the potential V(x) to that of a harmonic oscillator. In this case the normal modes describe the system exactly and each loop of the Monte Carlo algorithm should give exactly the same result with no statistical error._"
   ]
  },
  {
   "cell_type": "markdown",
   "metadata": {},
   "source": [
    "---"
   ]
  },
  {
   "cell_type": "markdown",
   "metadata": {},
   "source": [
    "## Solution"
   ]
  },
  {
   "cell_type": "markdown",
   "metadata": {},
   "source": [
    "First, as a sanity check, it is worth checking that the distribution is properly normalised (I did so via Wolfram Alpha). \n",
    "\n",
    "Notice that each $q_k$ has a normal distribution with mean 0 and standard deviation $1/\\sqrt{\\beta_N\\lambda_k}$. "
   ]
  },
  {
   "cell_type": "markdown",
   "metadata": {},
   "source": [
    "We have \n",
    "$$\n",
    "\\begin{align}\n",
    "Z(\\beta) &= \\left(\\frac{m}{2\\pi\\beta_N\\hbar^2}\\right)^{N/2}\\int{\\rm d}\\mathbf x {\\rm e}^{-\\beta_NU_N(\\mathbf x)}\\\\\n",
    "&\\approx\n",
    "\\left(\\frac{m}{2\\pi\\beta_N\\hbar^2}\\right)^{N/2}\\int{\\rm d}\\mathbf x {\\rm e}^{-\\beta_N\\frac{1}{2}x^THx}\n",
    "\\\\\n",
    "&=\n",
    "\\left(\\frac{m}{2\\pi\\beta_N\\hbar^2}\\right)^{N/2}\\int{\\rm d}\\mathbf x {\\rm e}^{-\\beta_N\\frac{1}{2}\\sum_k\\lambda_kq_k^2}\n",
    "\\\\\n",
    "&=\n",
    "\\left(\\frac{m}{2\\pi\\beta_N\\hbar^2}\\right)^{N/2}\\int{\\rm d}\\mathbf x \\prod_k{\\rm e}^{-\\beta_N\\frac{1}{2}\\lambda_kq_k^2}\n",
    "\\end{align}\n",
    "$$\n",
    "\n",
    "From the problem description we sample each $q_k$ from a normal distribution of variance $1/\\beta_N\\lambda_k$. To do Monte Carlo importance sampling, we first want to express the integrand in terms of the integration variable. \n",
    "\n",
    "We have $q=U^Tx$ and thus (by matrix multiplication and remembering to switch the indices due to transposition)\n",
    "$$\n",
    "q_k = U_{1k}x_1+...+U_{Nk}x_N.\n",
    "$$\n",
    "Hence, taking the partial derivative we have \n",
    "$$\n",
    "\\frac{\\partial q_k}{\\partial x_j} = U_{jk} = (U^T)_{kj}.\n",
    "$$\n",
    "\n",
    "Hence, the Jacobian is $U^T$. We have from multivariate calculus, $dq_1dq_2...dq_N=|\\frac{\\partial(q_1,...,q_N)}{\\partial(x_1,...,x_N)}|dx_1dx_2...dx_N$. \n",
    "\n",
    "However, \n",
    "$$\n",
    "\\begin{aligned}\n",
    "\\left|\\frac{\\partial(q_1,...,q_N)}{\\partial(x_1,...,x_N)}\\right| \n",
    "&= |U^T|\\\\\n",
    "&= |U^{-1}|\\\\\n",
    "&= 1/|U| \\\\\n",
    "&= 1\n",
    "\\end{aligned}\n",
    "$$\n",
    "since the determinant of a unitary matrix is unity. Hence, we have \n",
    "$dq_1dq_2...dq_N=dx_1dx_2...dx_N$.\n",
    "\n",
    "Returning to the partition function, we have \n",
    "$$\n",
    "\\begin{align}\n",
    "Z(\\beta) &= \n",
    "\\left(\\frac{m}{2\\pi\\beta_N\\hbar^2}\\right)^{N/2}\\int{\\rm d}\\mathbf x \\prod_k{\\rm e}^{-\\beta_N\\frac{1}{2}\\lambda_kq_k^2}\\\\\n",
    "&= \n",
    "\\left(\\frac{m}{2\\pi\\beta_N\\hbar^2}\\right)^{N/2} \\int{\\rm d}\\mathbf q\\prod_k{\\rm e}^{-\\beta_N\\frac{1}{2}\\lambda_kq_k^2}\\\\\n",
    "&= \n",
    "\\left(\\frac{m}{2\\pi\\beta_N\\hbar^2}\\right)^{N/2} \n",
    "\\left(\\int{\\rm d}q_1{\\rm e}^{-\\beta_N\\frac{1}{2}\\lambda_1q_1^2}\\right)\n",
    "\\left(\\int{\\rm d}q_2{\\rm e}^{-\\beta_N\\frac{1}{2}\\lambda_2q_2^2}\\right)\n",
    "\\cdot\\cdot\\cdot\n",
    "\\left(\\int{\\rm d}q_N{\\rm e}^{-\\beta_N\\frac{1}{2}\\lambda_Nq_N^2}\\right).\n",
    "\\end{align}\n",
    "$$\n",
    "\n",
    "But now each of these integrals is just a gaussian and the solution is known, so we can find the exact/analytical answer. Use $\\int e^{-ax^2/2} {\\rm d}x = \\sqrt{\\frac{2\\pi}{a}}$:\n",
    "$$\n",
    "Z(\\beta) = \n",
    "\\left(\\frac{m}{2\\pi\\beta_N\\hbar^2}\\right)^{N/2} \n",
    "\\frac{(2\\pi)^{N/2}}{\n",
    "\\beta_N^{N/2}\\sqrt{\\prod_{k=1}^N \\lambda_k}\n",
    "}\n",
    "$$\n",
    "\n",
    "TODO but then why are we doing a Monte Carlo importance sampling??\n",
    "\n",
    "TODO ask about this -- did I make a mistake somewhere?"
   ]
  },
  {
   "cell_type": "code",
   "execution_count": 6,
   "metadata": {},
   "outputs": [],
   "source": [
    "# From correspondence with Prof Richardson: \n",
    "# The Taylor series may be useful for the derivation,\n",
    "# but you should look for a numerical result that doesn't actually rely on\n",
    "# that approximation.\n",
    "# (I think this resolves the source of my confusion)\n",
    "\n",
    "# Morse oscillator, defined here again so that I can quickly fiddle with it\n",
    "# (i.e. change potentials and see how the resulting Z behaves)\n",
    "# V = lambda xi: De*(1-np.exp(-α*(xi-xe)))**2 \n",
    "# NOTE what I call xi here is actually x-x_e (!!!)\n",
    "V = lambda xi: De*(1-np.exp(-α*xi))**2 \n",
    "\n",
    "# β_N * U_N (i.e. the term in the exponential)\n",
    "def potential_U(x, β):\n",
    "    \"\"\"\n",
    "    U_N (i.e. the term in the exponential)\n",
    "    \n",
    "    :param: x vector of positions\n",
    "    :param: β reciprocal temperature 1/kT\n",
    "    :return: scalar value in the exponential to be integrated to get Z\n",
    "    \"\"\"\n",
    "    N = len(x)\n",
    "    retval = 0\n",
    "    for n in range(N): \n",
    "        # NOTE modulo is dealt with since in Python x[-1]==x[N] ☺\n",
    "#         print('first term', m*N*N*(x[n]-x[n-1])**2/2/β/β)\n",
    "        retval += m*N*N*(x[n]-x[n-1])*(x[n]-x[n-1])/2/β/β # hbar = 1\n",
    "#         print('second term', V(x[n]))\n",
    "        retval += V(x[n])\n",
    "    return retval\n",
    "\n",
    "# integrand up to the constant factor at the front\n",
    "f = lambda x,β: np.exp(-β*potential_U(x,β)/N)"
   ]
  },
  {
   "cell_type": "code",
   "execution_count": 25,
   "metadata": {},
   "outputs": [
    {
     "name": "stdout",
     "output_type": "stream",
     "text": [
      "Z: 1.74062e-04 at 200 samples\n",
      "σ: 5.03121e-11 at 200 samples\n",
      "Z: 1.69999e-04 at 400 samples\n",
      "σ: 4.41135e-11 at 400 samples\n",
      "Z: 1.66145e-04 at 600 samples\n",
      "σ: 2.64753e-11 at 600 samples\n",
      "Z: 1.69417e-04 at 800 samples\n",
      "σ: 2.25939e-11 at 800 samples\n",
      "Z: 1.68325e-04 at 1000 samples\n",
      "σ: 1.64622e-11 at 1000 samples\n"
     ]
    },
    {
     "data": {
      "image/png": "[encoded data removed]",
      "text/plain": [
       "<Figure size 432x288 with 1 Axes>"
      ]
     },
     "metadata": {
      "needs_background": "light"
     },
     "output_type": "display_data"
    },
    {
     "data": {
      "image/png": "[encoded data removed]",
      "text/plain": [
       "<Figure size 432x288 with 1 Axes>"
      ]
     },
     "metadata": {
      "needs_background": "light"
     },
     "output_type": "display_data"
    }
   ],
   "source": [
    "# Monte Carlo Importance Sampling\n",
    "# from scipy.stats import norm\n",
    "from scipy.stats import multivariate_normal\n",
    "\n",
    "# Σ = 0 # rolling sum\n",
    "num_samples = 1000 # number of samples (L)\n",
    "Z = np.zeros((num_samples,)) # keep track of Z as we sample\n",
    "σ = np.zeros((num_samples,)) # error estimate\n",
    "N = 16 # number of beads (to be adjusted)\n",
    "# for now, assuming room temperature, T=293 K\n",
    "β = 1077.73 # 1/Eh\n",
    "fis = np.zeros((num_samples,))\n",
    "\n",
    "# set up with hessian to get U \n",
    "H = hessian(N,β)\n",
    "evals, U = np.linalg.eigh(H)\n",
    "\n",
    "prefac = (m*N/(2*pi*β))**(N/2)\n",
    "# print(prefac)\n",
    "for i in range(num_samples):\n",
    "    # sigma * np.random.randn(...) + mu\n",
    "    variance = N/β/evals\n",
    "    # sample q, q_i ~ N(0,σ_i)\n",
    "    q = np.sqrt(variance) * np.random.randn(N) # + 0\n",
    "    # assuming q_i's are indep, so covariance matrix is diagonal\n",
    "    covar = np.diag(variance) # covar for q's\n",
    "    x = U @ q    \n",
    "    # TODO this w is wrong (!!!!!!)\n",
    "    # use Affine transformation of multivariate normal distro\n",
    "    # ? cov = U*cov*U.T\n",
    "    w = multivariate_normal.pdf(x, mean=np.zeros((N,)), cov=U@covar@U.T)\n",
    "    fis[i] = prefac*f(x,β)/w\n",
    "    Z[i] = np.sum(fis)/(i+1)\n",
    "    σ[i] = (1/(i+1)**2)*np.sum(fis*fis)-(1/(i+1))*(np.sum(fis)/(i+1))**2\n",
    "    if (i+1) % 200 == 0:\n",
    "        print('Z: %.5e at %i samples' % (Z[i],(i+1)))\n",
    "        print('σ: %.5e at %i samples' % (σ[i], i+1))\n",
    "#     Σ += fi\n",
    "#     σ += fi*fi\n",
    "#     print('Σ/N: %.4e' % (Σ/(i+1)))\n",
    "\n",
    "plt.plot(np.arange(1,num_samples+1,1),Z,'o-')\n",
    "plt.title('Partition function')\n",
    "plt.xlabel('number of iterations')\n",
    "plt.ylabel('Z')\n",
    "plt.show()\n",
    "plt.plot(np.arange(1,num_samples+1,1),σ,'o-')\n",
    "plt.title('Approximate error')\n",
    "plt.xlabel('number of iterations')\n",
    "plt.ylabel('σ')\n",
    "plt.show()"
   ]
  },
  {
   "cell_type": "code",
   "execution_count": 8,
   "metadata": {},
   "outputs": [],
   "source": [
    "# TODO outdated code -- DELETE\n",
    "\n",
    "#     print(covar)\n",
    "#     print(x)\n",
    "# #     q = np.zeros((N,))\n",
    "# #     w = np.zeros((N,))\n",
    "# #     for j in range(N):\n",
    "#         # forgot that the PDF can exceed 1 sometimes...\n",
    "# #         stretch = np.sqrt(N/β/evals[j])\n",
    "# #         q[j] = stretch*np.random.randn()\n",
    "# #         q[j] = np.random.normal(0,stretch,1)\n",
    "# #         print(np.random.normal(0, 1/np.sqrt(N/β/evals[j]), 1))\n",
    "# #         w[j] = norm.pdf(q[j], scale=stretch)\n",
    "# #         w = np.sqrt(β*evals[j]/(2*pi*N))*np.exp(-β*evals[j]*q[j]*q[j]/2/N) # weight\n",
    "# #         print('wj',w[j])\n",
    "# #     w = np.prod(w) # assume each distribution was independent\n",
    "#     print('w',w)\n",
    "\n",
    "#     print('Σ',Σ)\n",
    "#     print('x',x)\n",
    "#     print('f',f(x,β))\n",
    "# #     print(w)\n",
    "# #     print(Σ)\n",
    "#     print('stub') # TODO stub\n"
   ]
  },
  {
   "cell_type": "markdown",
   "metadata": {},
   "source": [
    "TODO Assume the $q_k$s are independent (I think it is actually possible to reason this, not assume). \n",
    "\n",
    "TODO seems like this one is a lot more difficult\n",
    "\n",
    "TODO what is exercise 2? Unfortunately not so familiar with importance sampling\n",
    "\n",
    "TODO what is the significance of the condition given in the first hint? \n",
    "\n",
    "TODO why do we sample on $q$ instead of $x$? \n",
    "\n",
    "TODO I think what I have as $x$ is actually $x-x_e$...\n",
    "- perhaps email Prof Richardson yet again (I think he was right the first time; i.e. no typo)\n",
    "- fix this in the previous question as well. I used $x-x_e$ but didn't realise I renamed it to just $x$ because I kept just $x$ instead of $x-x_e$ in the Taylor expansion.\n",
    "- I think he *does* have a typo when he writes out the Taylor expansion, but not when he writes the definition of $q$. \n",
    "\n",
    "TODO https://en.wikipedia.org/wiki/Multivariate_normal_distribution#Affine_transformation\n",
    "\n",
    "TODO implement the other convergence criteria\n",
    "\n",
    "TODO use an exact solution like the harmonic oscillator as a sanity check"
   ]
  },
  {
   "cell_type": "markdown",
   "metadata": {},
   "source": [
    "---"
   ]
  },
  {
   "cell_type": "markdown",
   "metadata": {},
   "source": [
    "e) Look up the Morse-oscillator energy levels and compute the quantum partition function in the standard way to check that your path-integral result is in agreement. Also compute the classical partition function using quadrature. "
   ]
  },
  {
   "cell_type": "markdown",
   "metadata": {},
   "source": [
    "---"
   ]
  },
  {
   "cell_type": "markdown",
   "metadata": {},
   "source": [
    "## Solution"
   ]
  },
  {
   "cell_type": "markdown",
   "metadata": {},
   "source": [
    "From many sources, (e.g. Wikipedia, https://arxiv.org/pdf/quant-ph/0411159.pdf)\n",
    "$$\n",
    "E_n = \\hbar\\omega_e(n+1/2)-\\hbar\\omega_e\\chi_e(n+1/2)^2\n",
    "$$\n",
    "\n",
    "TODO Not exactly sure what is meant by \"the standard way.\" Do we mean just summing over $e^{-\\beta E_j}$?\n",
    "\n",
    "$$\n",
    "{\\rm Tr}e^{-\\beta H}\n",
    "$$\n",
    "\n",
    "TODO"
   ]
  },
  {
   "cell_type": "markdown",
   "metadata": {},
   "source": [
    "---"
   ]
  },
  {
   "cell_type": "markdown",
   "metadata": {},
   "source": [
    "f) TODO"
   ]
  },
  {
   "cell_type": "markdown",
   "metadata": {},
   "source": [
    "---"
   ]
  },
  {
   "cell_type": "markdown",
   "metadata": {},
   "source": [
    "## Solution"
   ]
  },
  {
   "cell_type": "markdown",
   "metadata": {},
   "source": [
    "TODO"
   ]
  },
  {
   "cell_type": "markdown",
   "metadata": {},
   "source": [
    "---"
   ]
  },
  {
   "cell_type": "markdown",
   "metadata": {},
   "source": [
    "g) TODO"
   ]
  },
  {
   "cell_type": "markdown",
   "metadata": {},
   "source": [
    "---"
   ]
  },
  {
   "cell_type": "markdown",
   "metadata": {},
   "source": [
    "## Solution"
   ]
  },
  {
   "cell_type": "markdown",
   "metadata": {},
   "source": [
    "TODO"
   ]
  },
  {
   "cell_type": "markdown",
   "metadata": {},
   "source": [
    "---"
   ]
  },
  {
   "cell_type": "markdown",
   "metadata": {},
   "source": []
  }
 ],
 "metadata": {
  "kernelspec": {
   "display_name": "Python 3.7.6 64-bit",
   "language": "python",
   "name": "python37664bit92f8a897d0db47d3b9dd391bbd5c4bf9"
  },
  "language_info": {
   "codemirror_mode": {
    "name": "ipython",
    "version": 3
   },
   "file_extension": ".py",
   "mimetype": "text/x-python",
   "name": "python",
   "nbconvert_exporter": "python",
   "pygments_lexer": "ipython3",
   "version": "3.7.6"
  }
 },
 "nbformat": 4,
 "nbformat_minor": 4
}
