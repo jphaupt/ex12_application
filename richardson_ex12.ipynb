{
 "cells": [
  {
   "cell_type": "markdown",
   "metadata": {},
   "source": [
    "# Path Integral Quantum Statistics"
   ]
  },
  {
   "cell_type": "markdown",
   "metadata": {},
   "source": [
    "This is part of an application to work in a group as a doctoral candidate. "
   ]
  },
  {
   "cell_type": "markdown",
   "metadata": {},
   "source": [
    "The potential energy of a Morse oscillator is defined as \n",
    "$$\n",
    "V(x) = D_e(1-e^{-\\alpha(x-x_e)})^2\n",
    "$$\n",
    "with parameters chosen to represent an OH bond: $D_e = \\hbar\\omega_e^2/4\\omega_e\\chi_e$ and $\\alpha = \\sqrt{2m\\omega_e\\chi_e/\\hbar}$ with $\\omega_e/2\\pi c = 3737.76$ cm$^{-1}$, $\\omega_e\\chi_e/2\\pi c = 84.881$ cm$^{-1}$ and $x_e = 0.96966$ Å. For the mass, $m$, we use the reduced mass as if OH were a diatomic molecule. \n",
    "\n",
    "We wish to compute the partition function\n",
    "$$\n",
    "Z(\\beta) = \\left(\\frac{m}{2\\pi\\beta_N\\hbar^2}\\right)^{N/2}\\int{\\rm d}\\mathbf x {\\rm e}^{-\\beta_NU_N(\\mathbf x)}\n",
    "$$\n",
    "where $U_N(\\mathbf x) = \\sum_{n=1}^N \\frac m{2\\beta_N^2\\hbar^2}(x_n-x_{n-1})^2+\\sum_{n=1}^NV(x_n)$ and $\\beta_N = \\beta/N$. Here the index notation is cyclic such that $x_0\\equiv x_N$ and $\\mathbf x = \\{x_1, ..., x_N\\}$. "
   ]
  },
  {
   "cell_type": "markdown",
   "metadata": {},
   "source": [
    "a) Write code to build the $N\\times N$ ring-polymer Hessian, $\\mathbf H=\\nabla^2 U_N(\\mathbf x)$, for a ring polymer collapsed at the bottom of the Morse oscillator. Note that because the potential at the bottom of the oscillator is 0, the Taylor expansion of the ring-polymer potential is $U_N(\\mathbf x) = \\frac {1}{2}\\mathbf x^T \\mathbf H\\mathbf x+...$. "
   ]
  },
  {
   "cell_type": "markdown",
   "metadata": {},
   "source": [
    "---"
   ]
  },
  {
   "cell_type": "markdown",
   "metadata": {},
   "source": [
    "## Solution"
   ]
  },
  {
   "cell_type": "markdown",
   "metadata": {},
   "source": [
    "First, let's import the necessary modules and calculate the necessary constants defined in the problem. "
   ]
  },
  {
   "cell_type": "markdown",
   "metadata": {},
   "source": [
    "_NOTE:_ for convenience (and numerical accuracy), I am using the Hartree atomic units system."
   ]
  },
  {
   "cell_type": "code",
   "execution_count": 1,
   "metadata": {},
   "outputs": [],
   "source": [
    "import numpy as np # used in (b), so presumably allowed\n",
    "from matplotlib import pyplot as plt\n",
    "from math import pi\n",
    "\n",
    "# values in units as given \n",
    "ωe_2pic_cm = 3737.76 # ω_e/2πc, cm^-1\n",
    "ωχ_2pic_cm = 84.881 # ω_e χ_e/2ωc, cm^-1\n",
    "xe_ang = 0.96966 # x_e, Å\n",
    "\n",
    "# atomic unit conversions\n",
    "percm_2_pera0 = 5.29177211e-9 # cm^-1 to a0^-1\n",
    "ang_2_a0 = 1.889726125 # angstrom to Bohr radius\n",
    "\n",
    "# convert values\n",
    "ωe_2pic = ωe_2pic_cm * percm_2_pera0 # ω_e/2πc, a0^-1\n",
    "xe = xe_ang * ang_2_a0 # x_e, a0\n",
    "\n",
    "# c = 2.998e10 # speed of light, cm/s\n",
    "# use atomic units \n",
    "c = 137  # speed of light, a0 Eh / hbar\n",
    "\n",
    "χ = ωχ_2pic_cm / ωe_2pic_cm # dimensionless \n",
    "ω = ωe_2pic * 2 * pi * c # Eh/hbar\n",
    "\n",
    "# NOTE I am assuming that I may just look up the masses for O and H\n",
    "# I looked them up via Wolfram Alpha\n",
    "mO = 29164 # mass of Oxygen, m_e\n",
    "mH = 1837 # mass of Hydrogen, m_e\n",
    "m = mO*mH/(mO+mH) # reduced mass of OH\n",
    "\n",
    "# hbar,e,a0,m_e = 1\n",
    "De = ω/4/χ # well depth, Eh\n",
    "α = np.sqrt(2*m*ω*χ) # exponent, a0^-1\n",
    "\n",
    "# Morse oscillator potential energy \n",
    "V = lambda x: De*(1-np.exp(-α*(x-xe)))**2"
   ]
  },
  {
   "cell_type": "code",
   "execution_count": 2,
   "metadata": {
    "scrolled": true
   },
   "outputs": [
    {
     "data": {
      "image/png": "[encoded data removed]",
      "text/plain": [
       "<Figure size 432x288 with 1 Axes>"
      ]
     },
     "metadata": {
      "needs_background": "light"
     },
     "output_type": "display_data"
    }
   ],
   "source": [
    "# sanity check that the Morse oscillator looks like as expected\n",
    "xs = np.linspace(1, 10, 1000)\n",
    "plt.plot(xs, V(xs))\n",
    "plt.title(r'Morse Potential')\n",
    "plt.ylabel(r'$V(x)$ (hartree)')\n",
    "plt.xlabel(r'$x$ (Bohr radii)')\n",
    "plt.show()"
   ]
  },
  {
   "cell_type": "markdown",
   "metadata": {},
   "source": [
    "Now that we have sorted out units and have a function for the Morse oscillator, we can calculate the Hessian. First, the gradient is easily seen to be \n",
    "$$\n",
    "\\frac{\\partial U_N(\\mathbf x)}{\\partial x_n} = \\frac m{\\beta_N^2\\hbar^2}(-x_{n+1}+2x_n-x_{n-1}) + \\frac{\\partial V(x_n)}{\\partial x_n}.\n",
    "$$\n",
    "\n",
    "Similarly, the Hessian can be calculated, \n",
    "$$\n",
    "\\frac{\\partial^2 U_N(\\mathbf x)}{\\partial x_n\\partial x_j} = \n",
    "\\frac m{\\beta_N^2\\hbar^2}(-\\delta_{n+1,j}+2\\delta_{n,j}-\\delta_{n-1,j})+ \n",
    "\\delta_{n,j}\\frac{\\partial^2 V(x_n)}{\\partial x_n^2}.\n",
    "$$\n",
    "where, as usual, $\\delta_{nj}$ is the Kronecker delta function. \n",
    "\n",
    "Assuming the Morse potential, it is also easily to calculate the second derivative thereof, via repeated differentiation,\n",
    "$$\n",
    "V''(x) = 2D_e\\alpha^2e^{-\\alpha(x-x_e)}(2e^{-\\alpha(x-x_e)}-1).\n",
    "$$\n",
    "\n",
    "As described in the question, we are expanding about the bottom of the Morse oscillator, so we evaluate at $x=x_e$ and Taylor expand $U_N(x)\\approx\\frac {1}{2}x^THx$."
   ]
  },
  {
   "cell_type": "code",
   "execution_count": 3,
   "metadata": {},
   "outputs": [
    {
     "name": "stdout",
     "output_type": "stream",
     "text": [
      "[[ 0.5485753  -0.02380566  0.         -0.02380566]\n",
      " [-0.02380566  0.5485753  -0.02380566  0.        ]\n",
      " [ 0.         -0.02380566  0.5485753  -0.02380566]\n",
      " [-0.02380566  0.         -0.02380566  0.5485753 ]]\n"
     ]
    }
   ],
   "source": [
    "# V''(x) as found above\n",
    "# we are expanding about the *minimum* => don't need as function\n",
    "# Vpp(x) = lambda x: 2*De*α*α*np.exp(-α(x-xe))*(2*np.exp(-α*(x-xe))-1)\n",
    "# Vpp(x_e) = 2Dα²\n",
    "\n",
    "# assuming room temperature, T=293 K\n",
    "βr = 1/9.2787578809e-4 # 1/Eh\n",
    "\n",
    "# TODO do this faster by adding np.eye, etc? If I have time\n",
    "\n",
    "# I will write the Hessian as a function of N and x\n",
    "def Hij(i,j,N,β):\n",
    "    \"\"\"\n",
    "    returns the value of the N by N Hessian matrix ∇U at index i,j\n",
    "    evaluated at x=x_e (i.e. minimum of Morse potential)\n",
    "    \n",
    "    helper function for hessian function, below\n",
    "    :param: i row index\n",
    "    :param: j column index\n",
    "    :param: size of matrix (number of beads)\n",
    "    :param: β reciprocal temperature\n",
    "    :return: $H_{ij}$, value of H at index i,j \n",
    "    \"\"\"\n",
    "    if i==j:\n",
    "        return 2*m*N*N/β/β+2*De*α*α\n",
    "    if (i+1)%N==j: # mod N to ensure PBCs\n",
    "        return -m*N*N/β/β\n",
    "    if (i-1)%N==j:\n",
    "        return -m*N*N/β/β\n",
    "    else:\n",
    "        return 0\n",
    "\n",
    "def hessian(N,β):\n",
    "    \"\"\"\n",
    "    returns the Hessian of size N at reciprocal temp β\n",
    "    \"\"\"\n",
    "    H = np.zeros((N,N))\n",
    "    for i in range(N):\n",
    "        for j in range(N):\n",
    "            H[i,j] = Hij(i,j,N,β)\n",
    "    return H\n",
    "    \n",
    "# print small example, looks fine \n",
    "print(hessian(4,βr))"
   ]
  },
  {
   "cell_type": "markdown",
   "metadata": {},
   "source": [
    "---"
   ]
  },
  {
   "cell_type": "markdown",
   "metadata": {},
   "source": [
    "b) Calculate the eigenvalues and eigenvectors of this matrix using \n",
    "```\n",
    "evals, U = numpy.linalg.eigh(H)\n",
    "```\n",
    "We use eigh instead of eig because our matrix is hermitian (actually symmetric). If you want, you can check that the eigenvalues are in agreement with the Hückel cyclic alkene formula. The eigenvalues will be stored as a vector and the eigenvectors as a matrix. Show that the eigenvectors are stored in the columns by printing $U^THU$ and checking if the result is the diagonal matrix with the eigenvalues along the diagonal."
   ]
  },
  {
   "cell_type": "markdown",
   "metadata": {},
   "source": [
    "---"
   ]
  },
  {
   "cell_type": "markdown",
   "metadata": {},
   "source": [
    "## Solution"
   ]
  },
  {
   "cell_type": "code",
   "execution_count": 4,
   "metadata": {},
   "outputs": [
    {
     "name": "stdout",
     "output_type": "stream",
     "text": [
      "True\n"
     ]
    }
   ],
   "source": [
    "# select some N \n",
    "N = 16\n",
    "H = hessian(N,βr)\n",
    "\n",
    "evals, U = np.linalg.eigh(H)\n",
    "UHU = (U.T @ H) @ U # U^THU\n",
    "# If the following line returns True, then they are the same \n",
    "# up to the tolerance\n",
    "print(np.all(np.abs(UHU-np.diag(evals))<=1e-10))"
   ]
  },
  {
   "cell_type": "markdown",
   "metadata": {},
   "source": [
    "TODO also check the Hückel cyclic alkene formula (not familiar with this -- Look it up!)"
   ]
  },
  {
   "cell_type": "markdown",
   "metadata": {},
   "source": [
    "---"
   ]
  },
  {
   "cell_type": "markdown",
   "metadata": {},
   "source": [
    "c) We use the eigenvectors to define a set of normal modes for our system. Check (numerically) that for any path-integral configuration, $\\mathbf x$, that $x^THx = \\sum_k \\lambda_kq_k^2$ where $\\lambda_k$ are the eigenvalues and $\\mathbf q = U^T(\\mathbf x-x_e)$"
   ]
  },
  {
   "cell_type": "markdown",
   "metadata": {},
   "source": [
    "---"
   ]
  },
  {
   "cell_type": "markdown",
   "metadata": {},
   "source": [
    "## Solution"
   ]
  },
  {
   "cell_type": "markdown",
   "metadata": {},
   "source": [
    "Since this is a numerical \"proof,\" I assume that \"for any path-integral configuration,\" we really mean an arbitrary configuration. "
   ]
  },
  {
   "cell_type": "code",
   "execution_count": 5,
   "metadata": {},
   "outputs": [
    {
     "name": "stdout",
     "output_type": "stream",
     "text": [
      "3.115782998681304\n",
      "3.1157829986813037\n",
      "True\n"
     ]
    }
   ],
   "source": [
    "# check for random values between zero and one \n",
    "\n",
    "x = np.random.rand(N)\n",
    "\n",
    "xHx = x.T @ H @ x\n",
    "print(xHx)\n",
    "\n",
    "rhs = 0 # rhs of the expression, which should equal xHx\n",
    "q = U.T @ x\n",
    "for i in range(N):\n",
    "    rhs += evals[i] * q[i] * q[i]\n",
    "print(rhs)\n",
    "\n",
    "print(abs(xHx-rhs)<=1e-10)"
   ]
  },
  {
   "cell_type": "markdown",
   "metadata": {},
   "source": [
    "_NOTE:_ I only got this to work by removing the $x_e$ in the definition of $\\mathbf q$. I am not sure why $x_e$ is there in the first place."
   ]
  },
  {
   "cell_type": "markdown",
   "metadata": {},
   "source": [
    "Just for fun, here is a simple analytical proof. \n",
    "\n",
    "We know that $U^THU={\\rm diag}\\mathbf\\lambda$ where $\\mathbf \\lambda$ is the vector of eigenvalues and ${\\rm diag}\\mathbf x$ is the matrix with the vector $\\mathbf x$ along the diagonal and zeros everywhere else.\n",
    "\n",
    "Then, by multiplying $U^Tx$ on the right,\n",
    "$$ \n",
    "U^THx = {\\rm diag}\\mathbf(\\lambda) U^Tx\n",
    "$$\n",
    "and then by $x^TU$ on the left, \n",
    "$$\n",
    "x^THx = x^TU{\\rm diag}\\mathbf(\\lambda) U^Tx.\n",
    "$$\n",
    "\n",
    "But we define $\\mathbf q\\equiv U^Tx$ so we have \n",
    "$$\n",
    "x^THx = q^T{\\rm diag}\\mathbf(\\lambda) q.\n",
    "$$\n",
    "\n",
    "By simple matrix multiplication rules it is then simple to see $x^THx = \\sum_k \\lambda_kq_k^2$."
   ]
  },
  {
   "cell_type": "markdown",
   "metadata": {},
   "source": [
    "TODO check other values when I have time\n",
    "\n",
    "TODO ask about this (is it a typo?)"
   ]
  },
  {
   "cell_type": "markdown",
   "metadata": {},
   "source": [
    "---"
   ]
  },
  {
   "cell_type": "markdown",
   "metadata": {},
   "source": [
    "d) Write code to perform Monte Carlo importance sampling (like in Exercise 2) of the normal-mode coordinates from the distribution\n",
    "$$\n",
    "q_k\\sim\\sqrt{\\frac{\\beta_N\\lambda_k}{2\\pi}}e^{-\\beta_N\\lambda_kq_k^2/2},\n",
    "$$\n",
    "and hence compute the partition function at room temperature\n",
    "\n",
    "_Hint: First converge with respect to the number of Monte Carlo steps (you could estimate the standard deviation in your result to help with this process). Next, converge the results to about 5% error with respect to $N$. You can estimate how many beads will be needed from the condition $\\beta_N\\hbar\\omega_e\\ll 1$._\n",
    "\n",
    "_Hint: use a sanity check to help you eliminate errors, e.g. change the potential V(x) to that of a harmonic oscillator. In this case the normal modes describe the system exactly and each loop of the Monte Carlo algorithm should give exactly the same result with no statistical error._"
   ]
  },
  {
   "cell_type": "markdown",
   "metadata": {},
   "source": [
    "---"
   ]
  },
  {
   "cell_type": "markdown",
   "metadata": {},
   "source": [
    "## Solution"
   ]
  },
  {
   "cell_type": "markdown",
   "metadata": {},
   "source": [
    "First, as a sanity check, it is worth checking that the distribution is properly normalised (I did so via Wolfram Alpha). \n",
    "\n",
    "Notice that each $q_k$ has a normal distribution with mean 0 and standard deviation $1/\\sqrt{\\beta_N\\lambda_k}$. "
   ]
  },
  {
   "cell_type": "markdown",
   "metadata": {},
   "source": [
    "We have \n",
    "$$\n",
    "\\begin{align}\n",
    "Z(\\beta) &= \\left(\\frac{m}{2\\pi\\beta_N\\hbar^2}\\right)^{N/2}\\int{\\rm d}\\mathbf x {\\rm e}^{-\\beta_NU_N(\\mathbf x)}\\\\\n",
    "&\\approx\n",
    "\\left(\\frac{m}{2\\pi\\beta_N\\hbar^2}\\right)^{N/2}\\int{\\rm d}\\mathbf x {\\rm e}^{-\\beta_N\\frac{1}{2}x^THx}\n",
    "\\\\\n",
    "&=\n",
    "\\left(\\frac{m}{2\\pi\\beta_N\\hbar^2}\\right)^{N/2}\\int{\\rm d}\\mathbf x {\\rm e}^{-\\beta_N\\frac{1}{2}\\sum_k\\lambda_kq_k^2}\n",
    "\\\\\n",
    "&=\n",
    "\\left(\\frac{m}{2\\pi\\beta_N\\hbar^2}\\right)^{N/2}\\int{\\rm d}\\mathbf x \\prod_k{\\rm e}^{-\\beta_N\\frac{1}{2}\\lambda_kq_k^2}\n",
    "\\end{align}\n",
    "$$\n",
    "\n",
    "From the problem description we sample each $q_k$ from a normal distribution of variance $1/\\beta_N\\lambda_k$. To do Monte Carlo importance sampling, we first want to express the integrand in terms of the integration variable. \n",
    "\n",
    "We have $q=U^Tx$ and thus (by matrix multiplication and remembering to switch the indices due to transposition)\n",
    "$$\n",
    "q_k = U_{1k}x_1+...+U_{Nk}x_N.\n",
    "$$\n",
    "Hence, taking the partial derivative we have \n",
    "$$\n",
    "\\frac{\\partial q_k}{\\partial x_j} = U_{jk} = (U^T)_{kj}.\n",
    "$$\n",
    "\n",
    "Hence, the Jacobian is $U^T$. We have from multivariate calculus, $dq_1dq_2...dq_N=|\\frac{\\partial(q_1,...,q_N)}{\\partial(x_1,...,x_N)}|dx_1dx_2...dx_N$. \n",
    "\n",
    "However, \n",
    "$$\n",
    "\\begin{aligned}\n",
    "\\left|\\frac{\\partial(q_1,...,q_N)}{\\partial(x_1,...,x_N)}\\right| \n",
    "&= |U^T|\\\\\n",
    "&= |U^{-1}|\\\\\n",
    "&= 1/|U| \\\\\n",
    "&= 1\n",
    "\\end{aligned}\n",
    "$$\n",
    "since the determinant of a unitary matrix is unity. Hence, we have \n",
    "$dq_1dq_2...dq_N=dx_1dx_2...dx_N$.\n",
    "\n",
    "Returning to the partition function, we have \n",
    "$$\n",
    "\\begin{align}\n",
    "Z(\\beta) &= \n",
    "\\left(\\frac{m}{2\\pi\\beta_N\\hbar^2}\\right)^{N/2}\\int{\\rm d}\\mathbf x \\prod_k{\\rm e}^{-\\beta_N\\frac{1}{2}\\lambda_kq_k^2}\\\\\n",
    "&= \n",
    "\\left(\\frac{m}{2\\pi\\beta_N\\hbar^2}\\right)^{N/2} \\int{\\rm d}\\mathbf q\\prod_k{\\rm e}^{-\\beta_N\\frac{1}{2}\\lambda_kq_k^2}\\\\\n",
    "&= \n",
    "\\left(\\frac{m}{2\\pi\\beta_N\\hbar^2}\\right)^{N/2} \n",
    "\\left(\\int{\\rm d}q_1{\\rm e}^{-\\beta_N\\frac{1}{2}\\lambda_1q_1^2}\\right)\n",
    "\\left(\\int{\\rm d}q_2{\\rm e}^{-\\beta_N\\frac{1}{2}\\lambda_2q_2^2}\\right)\n",
    "\\cdot\\cdot\\cdot\n",
    "\\left(\\int{\\rm d}q_N{\\rm e}^{-\\beta_N\\frac{1}{2}\\lambda_Nq_N^2}\\right).\n",
    "\\end{align}\n",
    "$$\n",
    "\n",
    "But now each of these integrals is just a gaussian and the solution is known, so we can find the exact/analytical answer. Use $\\int e^{-ax^2/2} {\\rm d}x = \\sqrt{\\frac{2\\pi}{a}}$:\n",
    "$$\n",
    "Z(\\beta) = \n",
    "\\left(\\frac{m}{2\\pi\\beta_N\\hbar^2}\\right)^{N/2} \n",
    "\\frac{(2\\pi)^{N/2}}{\n",
    "\\beta_N^{N/2}\\sqrt{\\prod_{k=1}^N \\lambda_k}\n",
    "}\n",
    "$$\n",
    "\n",
    "TODO but then why are we doing a Monte Carlo importance sampling??\n",
    "\n",
    "TODO ask about this -- did I make a mistake somewhere?"
   ]
  },
  {
   "cell_type": "code",
   "execution_count": 6,
   "metadata": {},
   "outputs": [],
   "source": [
    "# From correspondence with Prof Richardson: \n",
    "# The Taylor series may be useful for the derivation,\n",
    "# but you should look for a numerical result that doesn't actually rely on\n",
    "# that approximation.\n",
    "# (I think this resolves the source of my confusion)\n",
    "\n",
    "# Morse oscillator, defined here again so that I can quickly fiddle with it\n",
    "# (i.e. change potentials and see how the resulting Z behaves)\n",
    "# V = lambda xi: De*(1-np.exp(-α*(xi-xe)))**2 \n",
    "# NOTE what I call xi here is actually x-x_e (!!!)\n",
    "V = lambda xi: De*(1-np.exp(-α*xi))**2 \n",
    "\n",
    "# β_N * U_N (i.e. the term in the exponential)\n",
    "def potential_U(x, β):\n",
    "    \"\"\"\n",
    "    U_N (i.e. the term in the exponential)\n",
    "    \n",
    "    :param: x vector of positions\n",
    "    :param: β reciprocal temperature 1/kT\n",
    "    :return: scalar value in the exponential to be integrated to get Z\n",
    "    \"\"\"\n",
    "    N = len(x)\n",
    "    retval = 0\n",
    "    for n in range(N): \n",
    "        # NOTE modulo is dealt with since in Python x[-1]==x[N] ☺\n",
    "#         print('first term', m*N*N*(x[n]-x[n-1])**2/2/β/β)\n",
    "        retval += m*N*N*(x[n]-x[n-1])*(x[n]-x[n-1])/2/β/β # hbar = 1\n",
    "#         print('second term', V(x[n]))\n",
    "        retval += V(x[n])\n",
    "    return retval\n",
    "\n",
    "# integrand up to the constant factor at the front\n",
    "f = lambda x,β: np.exp(-β*potential_U(x,β)/N)"
   ]
  },
  {
   "cell_type": "code",
   "execution_count": 44,
   "metadata": {},
   "outputs": [
    {
     "name": "stdout",
     "output_type": "stream",
     "text": [
      "17.374917730400654\n",
      "Z: 6.81398e-04 at 100 samples\n",
      "σ: 1.14678e-08 at 100 samples\n",
      "Z: 5.66232e-04 at 200 samples\n",
      "σ: 3.15714e-09 at 200 samples\n",
      "Z: 5.33333e-04 at 300 samples\n",
      "σ: 1.53584e-09 at 300 samples\n",
      "Z: 5.17522e-04 at 400 samples\n",
      "σ: 9.09702e-10 at 400 samples\n",
      "Z: 5.68963e-04 at 500 samples\n",
      "σ: 1.48220e-09 at 500 samples\n",
      "Z: 5.75960e-04 at 600 samples\n",
      "σ: 1.30133e-09 at 600 samples\n",
      "Z: 6.77248e-04 at 700 samples\n",
      "σ: 6.54089e-09 at 700 samples\n",
      "Z: 7.21902e-04 at 800 samples\n",
      "σ: 7.97939e-09 at 800 samples\n",
      "Z: 7.26387e-04 at 900 samples\n",
      "σ: 6.47725e-09 at 900 samples\n",
      "Z: 7.12296e-04 at 1000 samples\n",
      "σ: 5.31333e-09 at 1000 samples\n",
      "Z: 6.93442e-04 at 1100 samples\n",
      "σ: 4.40549e-09 at 1100 samples\n",
      "Z: 7.35216e-04 at 1200 samples\n",
      "σ: 6.07835e-09 at 1200 samples\n",
      "Z: 7.25708e-04 at 1300 samples\n",
      "σ: 5.23324e-09 at 1300 samples\n",
      "Z: 7.18613e-04 at 1400 samples\n",
      "σ: 4.56009e-09 at 1400 samples\n",
      "Z: 7.32905e-04 at 1500 samples\n",
      "σ: 4.17672e-09 at 1500 samples\n",
      "Z: 7.37965e-04 at 1600 samples\n",
      "σ: 3.81350e-09 at 1600 samples\n",
      "Z: 7.28226e-04 at 1700 samples\n",
      "σ: 3.39783e-09 at 1700 samples\n",
      "Z: 7.17695e-04 at 1800 samples\n",
      "σ: 3.03936e-09 at 1800 samples\n",
      "Z: 7.08661e-04 at 1900 samples\n",
      "σ: 2.73711e-09 at 1900 samples\n",
      "Z: 7.01407e-04 at 2000 samples\n",
      "σ: 2.48134e-09 at 2000 samples\n",
      "Z: 6.90718e-04 at 2100 samples\n",
      "σ: 2.25482e-09 at 2100 samples\n",
      "Z: 7.13096e-04 at 2200 samples\n",
      "σ: 2.66043e-09 at 2200 samples\n",
      "Z: 7.05236e-04 at 2300 samples\n",
      "σ: 2.43814e-09 at 2300 samples\n",
      "Z: 6.97656e-04 at 2400 samples\n",
      "σ: 2.24453e-09 at 2400 samples\n",
      "Z: 6.91070e-04 at 2500 samples\n",
      "σ: 2.07268e-09 at 2500 samples\n",
      "Z: 7.61447e-04 at 2600 samples\n",
      "σ: 7.31732e-09 at 2600 samples\n",
      "Z: 7.63076e-04 at 2700 samples\n",
      "σ: 6.85946e-09 at 2700 samples\n",
      "Z: 7.58753e-04 at 2800 samples\n",
      "σ: 6.38513e-09 at 2800 samples\n",
      "Z: 7.60881e-04 at 2900 samples\n",
      "σ: 5.98370e-09 at 2900 samples\n",
      "Z: 7.56025e-04 at 3000 samples\n",
      "σ: 5.59575e-09 at 3000 samples\n",
      "Z: 7.50682e-04 at 3100 samples\n",
      "σ: 5.24474e-09 at 3100 samples\n",
      "Z: 7.46256e-04 at 3200 samples\n",
      "σ: 4.92658e-09 at 3200 samples\n",
      "Z: 7.40382e-04 at 3300 samples\n",
      "σ: 4.63526e-09 at 3300 samples\n",
      "Z: 7.33454e-04 at 3400 samples\n",
      "σ: 4.36872e-09 at 3400 samples\n",
      "Z: 7.29730e-04 at 3500 samples\n",
      "σ: 4.12788e-09 at 3500 samples\n",
      "Z: 7.30130e-04 at 3600 samples\n",
      "σ: 3.91284e-09 at 3600 samples\n",
      "Z: 7.28457e-04 at 3700 samples\n",
      "σ: 3.71241e-09 at 3700 samples\n",
      "Z: 7.24348e-04 at 3800 samples\n",
      "σ: 3.52537e-09 at 3800 samples\n",
      "Z: 7.25639e-04 at 3900 samples\n",
      "σ: 3.36618e-09 at 3900 samples\n",
      "Z: 7.22039e-04 at 4000 samples\n",
      "σ: 3.20306e-09 at 4000 samples\n",
      "Z: 7.17527e-04 at 4100 samples\n",
      "σ: 3.05060e-09 at 4100 samples\n",
      "Z: 7.18792e-04 at 4200 samples\n",
      "σ: 2.91854e-09 at 4200 samples\n",
      "Z: 7.16026e-04 at 4300 samples\n",
      "σ: 2.78679e-09 at 4300 samples\n",
      "Z: 7.13614e-04 at 4400 samples\n",
      "σ: 2.66367e-09 at 4400 samples\n",
      "Z: 7.15410e-04 at 4500 samples\n",
      "σ: 2.56770e-09 at 4500 samples\n",
      "Z: 7.14251e-04 at 4600 samples\n",
      "σ: 2.46904e-09 at 4600 samples\n",
      "Z: 7.11342e-04 at 4700 samples\n",
      "σ: 2.37101e-09 at 4700 samples\n",
      "Z: 7.15890e-04 at 4800 samples\n",
      "σ: 2.31341e-09 at 4800 samples\n",
      "Z: 7.13943e-04 at 4900 samples\n",
      "σ: 2.22773e-09 at 4900 samples\n",
      "Z: 7.14536e-04 at 5000 samples\n",
      "σ: 2.15160e-09 at 5000 samples\n",
      "Z: 7.14984e-04 at 5100 samples\n",
      "σ: 2.07671e-09 at 5100 samples\n",
      "Z: 7.18250e-04 at 5200 samples\n",
      "σ: 2.01954e-09 at 5200 samples\n",
      "Z: 7.18453e-04 at 5300 samples\n",
      "σ: 1.95118e-09 at 5300 samples\n",
      "Z: 7.15427e-04 at 5400 samples\n",
      "σ: 1.88036e-09 at 5400 samples\n",
      "Z: 7.12546e-04 at 5500 samples\n",
      "σ: 1.81411e-09 at 5500 samples\n",
      "Z: 7.08822e-04 at 5600 samples\n",
      "σ: 1.75134e-09 at 5600 samples\n",
      "Z: 7.04782e-04 at 5700 samples\n",
      "σ: 1.69122e-09 at 5700 samples\n",
      "Z: 7.02274e-04 at 5800 samples\n",
      "σ: 1.63464e-09 at 5800 samples\n",
      "Z: 7.00755e-04 at 5900 samples\n",
      "σ: 1.58229e-09 at 5900 samples\n",
      "Z: 7.00317e-04 at 6000 samples\n",
      "σ: 1.53554e-09 at 6000 samples\n",
      "Z: 7.01509e-04 at 6100 samples\n",
      "σ: 1.49615e-09 at 6100 samples\n",
      "Z: 6.99845e-04 at 6200 samples\n",
      "σ: 1.45089e-09 at 6200 samples\n",
      "Z: 6.97594e-04 at 6300 samples\n",
      "σ: 1.40621e-09 at 6300 samples\n",
      "Z: 6.99485e-04 at 6400 samples\n",
      "σ: 1.36788e-09 at 6400 samples\n",
      "Z: 7.01656e-04 at 6500 samples\n",
      "σ: 1.33655e-09 at 6500 samples\n",
      "Z: 7.00026e-04 at 6600 samples\n",
      "σ: 1.29713e-09 at 6600 samples\n",
      "Z: 6.98344e-04 at 6700 samples\n",
      "σ: 1.25936e-09 at 6700 samples\n",
      "Z: 6.98542e-04 at 6800 samples\n",
      "σ: 1.22838e-09 at 6800 samples\n",
      "Z: 7.01521e-04 at 6900 samples\n",
      "σ: 1.20828e-09 at 6900 samples\n",
      "Z: 6.99620e-04 at 7000 samples\n",
      "σ: 1.17500e-09 at 7000 samples\n",
      "Z: 6.99711e-04 at 7100 samples\n",
      "σ: 1.14514e-09 at 7100 samples\n",
      "Z: 7.02351e-04 at 7200 samples\n",
      "σ: 1.12288e-09 at 7200 samples\n",
      "Z: 7.01382e-04 at 7300 samples\n",
      "σ: 1.09405e-09 at 7300 samples\n",
      "Z: 7.01100e-04 at 7400 samples\n",
      "σ: 1.06701e-09 at 7400 samples\n",
      "Z: 7.00328e-04 at 7500 samples\n",
      "σ: 1.04158e-09 at 7500 samples\n",
      "Z: 6.99146e-04 at 7600 samples\n",
      "σ: 1.01805e-09 at 7600 samples\n",
      "Z: 6.98335e-04 at 7700 samples\n",
      "σ: 9.92390e-10 at 7700 samples\n",
      "Z: 6.96639e-04 at 7800 samples\n",
      "σ: 9.67612e-10 at 7800 samples\n",
      "Z: 6.97147e-04 at 7900 samples\n",
      "σ: 9.47611e-10 at 7900 samples\n",
      "Z: 6.95632e-04 at 8000 samples\n",
      "σ: 9.25185e-10 at 8000 samples\n",
      "Z: 6.95340e-04 at 8100 samples\n",
      "σ: 9.03646e-10 at 8100 samples\n",
      "Z: 6.95381e-04 at 8200 samples\n",
      "σ: 8.84869e-10 at 8200 samples\n",
      "Z: 6.95213e-04 at 8300 samples\n",
      "σ: 8.64781e-10 at 8300 samples\n",
      "Z: 6.95759e-04 at 8400 samples\n",
      "σ: 8.49300e-10 at 8400 samples\n",
      "Z: 6.94299e-04 at 8500 samples\n",
      "σ: 8.30689e-10 at 8500 samples\n",
      "Z: 6.96596e-04 at 8600 samples\n",
      "σ: 8.19743e-10 at 8600 samples\n",
      "Z: 6.94749e-04 at 8700 samples\n",
      "σ: 8.01535e-10 at 8700 samples\n",
      "Z: 6.94308e-04 at 8800 samples\n",
      "σ: 7.84018e-10 at 8800 samples\n",
      "Z: 6.94447e-04 at 8900 samples\n",
      "σ: 7.68872e-10 at 8900 samples\n",
      "Z: 6.94159e-04 at 9000 samples\n",
      "σ: 7.52945e-10 at 9000 samples\n",
      "Z: 8.29793e-04 at 9100 samples\n",
      "σ: 1.89755e-08 at 9100 samples\n",
      "Z: 8.26466e-04 at 9200 samples\n",
      "σ: 1.85656e-08 at 9200 samples\n",
      "Z: 8.28023e-04 at 9300 samples\n",
      "σ: 1.81734e-08 at 9300 samples\n",
      "Z: 8.25085e-04 at 9400 samples\n",
      "σ: 1.77892e-08 at 9400 samples\n",
      "Z: 8.23755e-04 at 9500 samples\n",
      "σ: 1.74176e-08 at 9500 samples\n",
      "Z: 8.21345e-04 at 9600 samples\n",
      "σ: 1.70572e-08 at 9600 samples\n",
      "Z: 8.20237e-04 at 9700 samples\n",
      "σ: 1.67089e-08 at 9700 samples\n",
      "Z: 8.17820e-04 at 9800 samples\n",
      "σ: 1.63700e-08 at 9800 samples\n",
      "Z: 8.18482e-04 at 9900 samples\n",
      "σ: 1.60465e-08 at 9900 samples\n",
      "Z: 8.15088e-04 at 10000 samples\n",
      "σ: 1.57274e-08 at 10000 samples\n"
     ]
    },
    {
     "data": {
      "image/png": "[encoded data removed]",
      "text/plain": [
       "<Figure size 432x288 with 1 Axes>"
      ]
     },
     "metadata": {
      "needs_background": "light"
     },
     "output_type": "display_data"
    },
    {
     "data": {
      "image/png": "[encoded data removed]",
      "text/plain": [
       "<Figure size 432x288 with 1 Axes>"
      ]
     },
     "metadata": {
      "needs_background": "light"
     },
     "output_type": "display_data"
    }
   ],
   "source": [
    "# Monte Carlo Importance Sampling\n",
    "# from scipy.stats import norm\n",
    "from scipy.stats import multivariate_normal\n",
    "\n",
    "# Σ = 0 # rolling sum\n",
    "num_samples = 10000 # number of samples (L)\n",
    "Z = np.zeros((num_samples,)) # keep track of Z as we sample\n",
    "σ = np.zeros((num_samples,)) # error estimate\n",
    "N = 8 # number of beads (to be adjusted)\n",
    "# for now, assuming room temperature, T=293 K\n",
    "β = 1077.73 # 1/Eh\n",
    "fis = np.zeros((num_samples,))\n",
    "\n",
    "# set up with hessian to get U \n",
    "H = hessian(N,β)\n",
    "evals, U = np.linalg.eigh(H)\n",
    "\n",
    "prefac = (m*N/(2*pi*β))**(N/2)\n",
    "# print(prefac)\n",
    "for i in range(num_samples):\n",
    "    # sigma * np.random.randn(...) + mu\n",
    "    variance = N/β/evals\n",
    "    # sample q, q_i ~ N(0,σ_i)\n",
    "    q = np.sqrt(variance) * np.random.randn(N) # + 0\n",
    "    # assuming q_i's are indep, so covariance matrix is diagonal\n",
    "    covar = np.diag(variance) \n",
    "    x = U @ q    \n",
    "    w = multivariate_normal.pdf(x, mean=np.zeros((N,)), cov=covar)\n",
    "    fis[i] = prefac*f(x,β)/w\n",
    "    Z[i] = np.sum(fis)/(i+1)\n",
    "    σ[i] = (1/(i+1)**2)*np.sum(fis*fis)-(1/(i+1))*(np.sum(fis)/(i+1))**2\n",
    "    if (i+1) % 100 == 0:\n",
    "        print('Z: %.5e at %i samples' % (Z[i],(i+1)))\n",
    "        print('σ: %.5e at %i samples' % (σ[i], i+1))\n",
    "#     Σ += fi\n",
    "#     σ += fi*fi\n",
    "#     print('Σ/N: %.4e' % (Σ/(i+1)))\n",
    "\n",
    "plt.plot(np.arange(1,num_samples+1,1),Z,'o-')\n",
    "plt.title('Partition function')\n",
    "plt.xlabel('number of iterations')\n",
    "plt.ylabel('Z')\n",
    "plt.show()\n",
    "plt.plot(np.arange(1,num_samples+1,1),σ,'o-')\n",
    "plt.title('Approximate error')\n",
    "plt.xlabel('number of iterations')\n",
    "plt.ylabel('σ')\n",
    "plt.show()"
   ]
  },
  {
   "cell_type": "code",
   "execution_count": 8,
   "metadata": {},
   "outputs": [],
   "source": [
    "# TODO outdated code -- DELETE\n",
    "\n",
    "#     print(covar)\n",
    "#     print(x)\n",
    "# #     q = np.zeros((N,))\n",
    "# #     w = np.zeros((N,))\n",
    "# #     for j in range(N):\n",
    "#         # forgot that the PDF can exceed 1 sometimes...\n",
    "# #         stretch = np.sqrt(N/β/evals[j])\n",
    "# #         q[j] = stretch*np.random.randn()\n",
    "# #         q[j] = np.random.normal(0,stretch,1)\n",
    "# #         print(np.random.normal(0, 1/np.sqrt(N/β/evals[j]), 1))\n",
    "# #         w[j] = norm.pdf(q[j], scale=stretch)\n",
    "# #         w = np.sqrt(β*evals[j]/(2*pi*N))*np.exp(-β*evals[j]*q[j]*q[j]/2/N) # weight\n",
    "# #         print('wj',w[j])\n",
    "# #     w = np.prod(w) # assume each distribution was independent\n",
    "#     print('w',w)\n",
    "\n",
    "#     print('Σ',Σ)\n",
    "#     print('x',x)\n",
    "#     print('f',f(x,β))\n",
    "# #     print(w)\n",
    "# #     print(Σ)\n",
    "#     print('stub') # TODO stub\n"
   ]
  },
  {
   "cell_type": "markdown",
   "metadata": {},
   "source": [
    "TODO Assume the $q_k$s are independent (I think it is actually possible to reason this, not assume). Then $w$ is the product of the PDFs since $P(\\mathbf q=\\mathbf q')=P(q_1=q_1')P(q_2=q_2')\\cdot\\cdot\\cdot P(q_N=q_N')$. \n",
    "\n",
    "TODO seems like this one is a lot more difficult\n",
    "\n",
    "TODO what is exercise 2? Unfortunately not so familiar with importance sampling\n",
    "\n",
    "TODO what is the significance of the condition given in the first hint? \n",
    "\n",
    "TODO why do we sample on $q$ instead of $x$? \n",
    "\n",
    "TODO I think what I have as $x$ is actually $x-x_e$...\n",
    "- perhaps email Prof Richardson yet again (I think he was right the first time; i.e. no typo)\n",
    "- fix this in the previous question as well. I used $x-x_e$ but didn't realise I renamed it to just $x$ because I kept just $x$ instead of $x-x_e$ in the Taylor expansion.\n",
    "\n",
    "TODO https://en.wikipedia.org/wiki/Multivariate_normal_distribution#Affine_transformation"
   ]
  },
  {
   "cell_type": "markdown",
   "metadata": {},
   "source": [
    "---"
   ]
  },
  {
   "cell_type": "markdown",
   "metadata": {},
   "source": [
    "e) Look up the Morse-oscillator energy levels and compute the quantum partition function in the standard way to check that your path-integral result is in agreement. Also compute the classical partition function using quadrature. "
   ]
  },
  {
   "cell_type": "markdown",
   "metadata": {},
   "source": [
    "---"
   ]
  },
  {
   "cell_type": "markdown",
   "metadata": {},
   "source": [
    "## Solution"
   ]
  },
  {
   "cell_type": "markdown",
   "metadata": {},
   "source": [
    "From many sources, (e.g. Wikipedia, https://arxiv.org/pdf/quant-ph/0411159.pdf)\n",
    "$$\n",
    "E_n = \\hbar\\omega_e(n+1/2)-\\hbar\\omega_e\\chi_e(n+1/2)^2\n",
    "$$\n",
    "\n",
    "TODO Not exactly sure what is meant by \"the standard way.\" Do we mean just summing over $e^{-\\beta E_j}$?\n",
    "\n",
    "$$\n",
    "{\\rm Tr}e^{-\\beta H}\n",
    "$$\n",
    "\n",
    "TODO"
   ]
  },
  {
   "cell_type": "markdown",
   "metadata": {},
   "source": [
    "---"
   ]
  },
  {
   "cell_type": "markdown",
   "metadata": {},
   "source": [
    "f) TODO"
   ]
  },
  {
   "cell_type": "markdown",
   "metadata": {},
   "source": [
    "---"
   ]
  },
  {
   "cell_type": "markdown",
   "metadata": {},
   "source": [
    "## Solution"
   ]
  },
  {
   "cell_type": "markdown",
   "metadata": {},
   "source": [
    "TODO"
   ]
  },
  {
   "cell_type": "markdown",
   "metadata": {},
   "source": [
    "---"
   ]
  },
  {
   "cell_type": "markdown",
   "metadata": {},
   "source": [
    "g) TODO"
   ]
  },
  {
   "cell_type": "markdown",
   "metadata": {},
   "source": [
    "---"
   ]
  },
  {
   "cell_type": "markdown",
   "metadata": {},
   "source": [
    "## Solution"
   ]
  },
  {
   "cell_type": "markdown",
   "metadata": {},
   "source": [
    "TODO"
   ]
  },
  {
   "cell_type": "markdown",
   "metadata": {},
   "source": [
    "---"
   ]
  },
  {
   "cell_type": "markdown",
   "metadata": {},
   "source": []
  }
 ],
 "metadata": {
  "kernelspec": {
   "display_name": "Python 3.7.6 64-bit",
   "language": "python",
   "name": "python37664bit92f8a897d0db47d3b9dd391bbd5c4bf9"
  },
  "language_info": {
   "codemirror_mode": {
    "name": "ipython",
    "version": 3
   },
   "file_extension": ".py",
   "mimetype": "text/x-python",
   "name": "python",
   "nbconvert_exporter": "python",
   "pygments_lexer": "ipython3",
   "version": "3.7.6"
  }
 },
 "nbformat": 4,
 "nbformat_minor": 4
}
